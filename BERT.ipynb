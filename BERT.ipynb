{
  "nbformat": 4,
  "nbformat_minor": 0,
  "metadata": {
    "colab": {
      "provenance": [],
      "authorship_tag": "ABX9TyO+eLhRf5Kbu6byqGTKFHSi",
      "include_colab_link": true
    },
    "kernelspec": {
      "name": "python3",
      "display_name": "Python 3"
    },
    "language_info": {
      "name": "python"
    }
  },
  "cells": [
    {
      "cell_type": "markdown",
      "metadata": {
        "id": "view-in-github",
        "colab_type": "text"
      },
      "source": [
        "<a href=\"https://colab.research.google.com/github/sharma01ketan/Hello-World-/blob/main/BERT.ipynb\" target=\"_parent\"><img src=\"https://colab.research.google.com/assets/colab-badge.svg\" alt=\"Open In Colab\"/></a>"
      ]
    },
    {
      "cell_type": "code",
      "execution_count": 2,
      "metadata": {
        "colab": {
          "base_uri": "https://localhost:8080/"
        },
        "id": "NwUkZ8bR_oOJ",
        "outputId": "4f40a433-a3df-4534-9642-319515361bf2"
      },
      "outputs": [
        {
          "output_type": "stream",
          "name": "stdout",
          "text": [
            "Requirement already satisfied: transformers in /usr/local/lib/python3.10/dist-packages (4.40.0)\n",
            "Requirement already satisfied: filelock in /usr/local/lib/python3.10/dist-packages (from transformers) (3.13.4)\n",
            "Requirement already satisfied: huggingface-hub<1.0,>=0.19.3 in /usr/local/lib/python3.10/dist-packages (from transformers) (0.20.3)\n",
            "Requirement already satisfied: numpy>=1.17 in /usr/local/lib/python3.10/dist-packages (from transformers) (1.25.2)\n",
            "Requirement already satisfied: packaging>=20.0 in /usr/local/lib/python3.10/dist-packages (from transformers) (24.0)\n",
            "Requirement already satisfied: pyyaml>=5.1 in /usr/local/lib/python3.10/dist-packages (from transformers) (6.0.1)\n",
            "Requirement already satisfied: regex!=2019.12.17 in /usr/local/lib/python3.10/dist-packages (from transformers) (2023.12.25)\n",
            "Requirement already satisfied: requests in /usr/local/lib/python3.10/dist-packages (from transformers) (2.31.0)\n",
            "Requirement already satisfied: tokenizers<0.20,>=0.19 in /usr/local/lib/python3.10/dist-packages (from transformers) (0.19.1)\n",
            "Requirement already satisfied: safetensors>=0.4.1 in /usr/local/lib/python3.10/dist-packages (from transformers) (0.4.3)\n",
            "Requirement already satisfied: tqdm>=4.27 in /usr/local/lib/python3.10/dist-packages (from transformers) (4.66.2)\n",
            "Requirement already satisfied: fsspec>=2023.5.0 in /usr/local/lib/python3.10/dist-packages (from huggingface-hub<1.0,>=0.19.3->transformers) (2023.6.0)\n",
            "Requirement already satisfied: typing-extensions>=3.7.4.3 in /usr/local/lib/python3.10/dist-packages (from huggingface-hub<1.0,>=0.19.3->transformers) (4.11.0)\n",
            "Requirement already satisfied: charset-normalizer<4,>=2 in /usr/local/lib/python3.10/dist-packages (from requests->transformers) (3.3.2)\n",
            "Requirement already satisfied: idna<4,>=2.5 in /usr/local/lib/python3.10/dist-packages (from requests->transformers) (3.7)\n",
            "Requirement already satisfied: urllib3<3,>=1.21.1 in /usr/local/lib/python3.10/dist-packages (from requests->transformers) (2.0.7)\n",
            "Requirement already satisfied: certifi>=2017.4.17 in /usr/local/lib/python3.10/dist-packages (from requests->transformers) (2024.2.2)\n"
          ]
        }
      ],
      "source": [
        "pip install transformers\n"
      ]
    },
    {
      "cell_type": "code",
      "source": [
        "import torch\n",
        "from transformers import BertTokenizer, BertForMaskedLM, BertForNextSentencePrediction\n",
        "\n",
        "# Load pre-trained BERT models and tokenizers\n",
        "tokenizer = BertTokenizer.from_pretrained('bert-base-uncased')\n",
        "mlm_model = BertForMaskedLM.from_pretrained('bert-base-uncased')\n",
        "nsp_model = BertForNextSentencePrediction.from_pretrained('bert-base-uncased')\n",
        "\n",
        "# Example text for MLM\n",
        "text = \"[CLS] I went to the [MASK] yesterday. [SEP]\"\n",
        "masked_index = 5  # The index of the masked token in the input\n",
        "\n",
        "# Tokenize input text\n",
        "tokenized_text = tokenizer.tokenize(text)\n",
        "indexed_tokens = tokenizer.convert_tokens_to_ids(tokenized_text)\n",
        "segments_ids = [0] * len(tokenized_text)  # All tokens belong to the same sentence\n",
        "\n",
        "# Convert inputs to PyTorch tensors\n",
        "tokens_tensor = torch.tensor([indexed_tokens])\n",
        "segments_tensors = torch.tensor([segments_ids])\n",
        "\n",
        "# Predict masked tokens using MLM model\n",
        "with torch.no_grad():\n",
        "    outputs = mlm_model(tokens_tensor, token_type_ids=segments_tensors)\n",
        "    predictions = outputs[0][0, masked_index].topk(5)  # Get top 5 predictions\n",
        "    predicted_tokens = tokenizer.convert_ids_to_tokens(predictions.indices.tolist())\n",
        "\n",
        "print(\"Masked Language Modeling:\")\n",
        "print(\"Original Sentence:\", text)\n",
        "print(\"Predicted Tokens:\", predicted_tokens)\n",
        "\n",
        "# Example text for NSP\n",
        "text_a = \"The sun is shining today.\"\n",
        "text_b = \"It's a beautiful day.\"\n",
        "\n",
        "# Tokenize input texts and pad to the same length\n",
        "tokenized_text_a = tokenizer.tokenize(text_a)\n",
        "tokenized_text_b = tokenizer.tokenize(text_b)\n",
        "\n",
        "# Pad the shorter sequence to match the length of the longer one\n",
        "max_length = max(len(tokenized_text_a), len(tokenized_text_b))\n",
        "tokenized_text_a += ['[PAD]'] * (max_length - len(tokenized_text_a))\n",
        "tokenized_text_b += ['[PAD]'] * (max_length - len(tokenized_text_b))\n",
        "\n",
        "indexed_tokens_a = tokenizer.convert_tokens_to_ids(tokenized_text_a)\n",
        "indexed_tokens_b = tokenizer.convert_tokens_to_ids(tokenized_text_b)\n",
        "\n",
        "# Convert inputs to PyTorch tensors\n",
        "tokens_tensor_a = torch.tensor([indexed_tokens_a])\n",
        "tokens_tensor_b = torch.tensor([indexed_tokens_b])\n",
        "\n",
        "# Predict next sentence using NSP model\n",
        "with torch.no_grad():\n",
        "    outputs = nsp_model(tokens_tensor_a, tokens_tensor_b)\n",
        "    probabilities = torch.softmax(outputs.logits, dim=1)\n",
        "    is_next = probabilities[0, 0].item() > probabilities[0, 1].item()\n",
        "\n",
        "print(\"\\nNext Sentence Prediction:\")\n",
        "print(\"Text A:\", text_a)\n",
        "print(\"Text B:\", text_b)\n",
        "print(\"Is Next Sentence:\", is_next)\n"
      ],
      "metadata": {
        "colab": {
          "base_uri": "https://localhost:8080/"
        },
        "id": "IMnjGq_3_pBJ",
        "outputId": "a3d75c78-cc5d-4441-a162-e09c17cc10ec"
      },
      "execution_count": 4,
      "outputs": [
        {
          "output_type": "stream",
          "name": "stderr",
          "text": [
            "Some weights of the model checkpoint at bert-base-uncased were not used when initializing BertForMaskedLM: ['bert.pooler.dense.bias', 'bert.pooler.dense.weight', 'cls.seq_relationship.bias', 'cls.seq_relationship.weight']\n",
            "- This IS expected if you are initializing BertForMaskedLM from the checkpoint of a model trained on another task or with another architecture (e.g. initializing a BertForSequenceClassification model from a BertForPreTraining model).\n",
            "- This IS NOT expected if you are initializing BertForMaskedLM from the checkpoint of a model that you expect to be exactly identical (initializing a BertForSequenceClassification model from a BertForSequenceClassification model).\n"
          ]
        },
        {
          "output_type": "stream",
          "name": "stdout",
          "text": [
            "Masked Language Modeling:\n",
            "Original Sentence: [CLS] I went to the [MASK] yesterday. [SEP]\n",
            "Predicted Tokens: ['hospital', 'library', 'store', 'office', 'church']\n",
            "\n",
            "Next Sentence Prediction:\n",
            "Text A: The sun is shining today.\n",
            "Text B: It's a beautiful day.\n",
            "Is Next Sentence: False\n"
          ]
        }
      ]
    },
    {
      "cell_type": "code",
      "source": [],
      "metadata": {
        "id": "hsPMskD5Ap9I"
      },
      "execution_count": null,
      "outputs": []
    }
  ]
}